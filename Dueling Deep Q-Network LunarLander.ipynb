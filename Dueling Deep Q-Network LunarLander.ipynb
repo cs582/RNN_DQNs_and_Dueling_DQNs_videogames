{
 "cells": [
  {
   "cell_type": "markdown",
   "id": "359a44e7",
   "metadata": {},
   "source": [
    "### Build Dueling Deep Q-Network"
   ]
  },
  {
   "cell_type": "code",
   "execution_count": 1,
   "id": "5914d3fd",
   "metadata": {},
   "outputs": [],
   "source": [
    "import torch as T\n",
    "import torch.nn as nn\n",
    "import torch.nn.functional as F\n",
    "import torch.optim as optim\n",
    "import numpy as np\n",
    "import pandas as pd\n",
    "import gym"
   ]
  },
  {
   "cell_type": "code",
   "execution_count": 2,
   "id": "a4ba8458",
   "metadata": {},
   "outputs": [],
   "source": [
    "information = {\"DuelingDQN-LunarLander\":[]}"
   ]
  },
  {
   "cell_type": "markdown",
   "id": "098b7bf4",
   "metadata": {},
   "source": [
    "### Buffer"
   ]
  },
  {
   "cell_type": "code",
   "execution_count": 3,
   "id": "d8796044",
   "metadata": {},
   "outputs": [],
   "source": [
    "class ReplayBuffer(object):\n",
    "    def __init__(self, max_size, input_shape, n_actions):\n",
    "        self.mem_size = max_size\n",
    "        self.mem_cntr = 0\n",
    "        self.state_memory = np.zeros((self.mem_size, *input_shape),\n",
    "                                    dtype=np.float32)\n",
    "        self.new_state_memory = np.zeros((self.mem_size, *input_shape),\n",
    "                                    dtype=np.float32)\n",
    "        self.action_memory = np.zeros(self.mem_size, dtype=np.int64)\n",
    "        self.reward_memory = np.zeros(self.mem_size, dtype=np.float32)\n",
    "        self.terminal_memory = np.zeros(self.mem_size, dtype=np.bool)\n",
    "        \n",
    "    def store_transition(self, state, action, reward, state_, done):\n",
    "        index = self.mem_cntr % self.mem_size\n",
    "        self.state_memory[index] = state\n",
    "        self.action_memory[index] = action\n",
    "        self.reward_memory[index] = reward\n",
    "        self.new_state_memory[index] = state_\n",
    "        self.terminal_memory[index] = done\n",
    "        \n",
    "        self.mem_cntr += 1\n",
    "        \n",
    "    def sample_buffer(self, batch_size):\n",
    "        max_mem = min(self.mem_cntr, self.mem_size)\n",
    "        batch = np.random.choice(max_mem, batch_size, replace=False)\n",
    "        \n",
    "        states = self.state_memory[batch]\n",
    "        actions = self.action_memory[batch]\n",
    "        rewards = self.reward_memory[batch]\n",
    "        states_ = self.new_state_memory[batch]\n",
    "        dones = self.terminal_memory[batch]\n",
    "        \n",
    "        return states, actions, rewards, states_, dones"
   ]
  },
  {
   "cell_type": "markdown",
   "id": "7e016ca6",
   "metadata": {},
   "source": [
    "### Build Dueling DQN"
   ]
  },
  {
   "cell_type": "code",
   "execution_count": 4,
   "id": "a7f4dd74",
   "metadata": {},
   "outputs": [],
   "source": [
    "class DuelingDQN(nn.Module):\n",
    "    def __init__(self, ALPHA, n_actions, input_dims):\n",
    "        super(DuelingDQN, self).__init__()\n",
    "        self.input_dims = input_dims\n",
    "        self.fc1_dims = 256\n",
    "        self.fc2_dims = 256\n",
    "        self.n_actions = n_actions\n",
    "        \n",
    "        self.fc1 = nn.Linear(*self.input_dims, self.fc1_dims)\n",
    "        self.fc2 = nn.Linear(self.fc1_dims, self.fc2_dims)\n",
    "        self.V = nn.Linear(self.fc2_dims, 1)\n",
    "        self.A = nn.Linear(self.fc2_dims, n_actions)\n",
    "        \n",
    "        self.optimizer = optim.Adam(self.parameters(), lr=ALPHA)\n",
    "        self.loss = nn.MSELoss()\n",
    "        self.device = T.device('cuda:0' if T.cuda.is_available() else 'cpu')\n",
    "        self.to(self.device)\n",
    "        \n",
    "    def forward(self, state):\n",
    "        x = F.relu(self.fc1(state))\n",
    "        x = F.relu(self.fc2(x))\n",
    "        V = self.V(x)\n",
    "        A = self.A(x)\n",
    "        return V, A"
   ]
  },
  {
   "cell_type": "markdown",
   "id": "8dfd26da",
   "metadata": {},
   "source": [
    "### Build Dueling DQN Agent"
   ]
  },
  {
   "cell_type": "code",
   "execution_count": 5,
   "id": "7df8c856",
   "metadata": {},
   "outputs": [],
   "source": [
    "class AgentDuelingDQN():\n",
    "    def __init__(self, gamma, epsilon, alpha, input_dims, batch_size, n_actions,\n",
    "                max_mem_size = 100000, eps_end = 0.01, eps_dec = 5e-7, replace=1000):\n",
    "        self.gamma = gamma\n",
    "        self.epsilon = epsilon\n",
    "        self.eps_min = eps_end\n",
    "        self.eps_dec = eps_dec\n",
    "        self.action_space = [i for i in range(n_actions)]\n",
    "        self.learn_step_counter = 0\n",
    "        self.replace_target_cntr = replace\n",
    "        self.batch_size = batch_size\n",
    "        \n",
    "        self.memory = ReplayBuffer(max_mem_size, input_dims, n_actions)\n",
    "        \n",
    "        self.Q_eval = DuelingDQN(alpha, n_actions=n_actions, input_dims=input_dims)\n",
    "        self.Q_next = DuelingDQN(alpha, n_actions=n_actions, input_dims=input_dims)\n",
    "        \n",
    "    def store_transition(self, state, action, reward, state_, done):\n",
    "        self.memory.store_transition(state, action, reward, state_, done)\n",
    "        \n",
    "    def choose_action(self, observation):\n",
    "        if np.random.random() > self.epsilon:\n",
    "            observation = observation[np.newaxis, :]\n",
    "            state = T.tensor([observation]).to(self.Q_eval.device)\n",
    "            _, advantage = self.Q_eval.forward(state)\n",
    "            action = T.argmax(advantage).item()\n",
    "        else:\n",
    "            action = np.random.choice(self.action_space)\n",
    "            \n",
    "        return action\n",
    "    \n",
    "    def replace_target_network(self):\n",
    "        if self.replace_target_cntr is not None and self.learn_step_counter % self.replace_target_cntr == 0:\n",
    "            self.Q_next.load_state_dict(self.Q_eval.state_dict())\n",
    "            \n",
    "    def decrement_epsilon(self):\n",
    "        self.epsilon = self.epsilon - self.eps_dec if self.epsilon > self.eps_min else self.eps_min\n",
    "        \n",
    "    def learn(self):\n",
    "        if self.memory.mem_cntr < self.batch_size:\n",
    "            return\n",
    "        self.Q_eval.optimizer.zero_grad()\n",
    "        self.replace_target_network()\n",
    "        \n",
    "        state, action, reward, new_state, done = self.memory.sample_buffer(self.batch_size)\n",
    "        \n",
    "        state = T.tensor(state).to(self.Q_eval.device)\n",
    "        new_state = T.tensor(new_state).to(self.Q_eval.device)\n",
    "        action = T.tensor(action).to(self.Q_eval.device)\n",
    "        reward = T.tensor(reward).to(self.Q_eval.device)\n",
    "        dones = T.tensor(done).to(self.Q_eval.device)\n",
    "        \n",
    "        V_s, A_s = self.Q_eval.forward(state)\n",
    "        V_s_, A_s_ = self.Q_eval.forward(new_state)\n",
    "        \n",
    "        q_pred = T.add(V_s, (A_s - A_s.mean(dim=1, keepdim=True))).gather(1,action.unsqueeze(-1)).squeeze(-1)\n",
    "        q_next = T.add(V_s_, (A_s_ - A_s_.mean(dim=1, keepdim=True)))\n",
    "        \n",
    "        q_target = reward + self.gamma*T.max(q_next, dim=1)[0].detach()\n",
    "        q_target[dones] = 0.0\n",
    "        \n",
    "        loss = self.Q_eval.loss(q_target, q_pred).to(self.Q_eval.device)\n",
    "        loss.backward()\n",
    "        self.Q_eval.optimizer.step()\n",
    "        self.learn_step_counter += 1\n",
    "        \n",
    "        self.decrement_epsilon()"
   ]
  },
  {
   "cell_type": "markdown",
   "id": "1d4057f9",
   "metadata": {},
   "source": [
    "### Training Dueling DQN"
   ]
  },
  {
   "cell_type": "code",
   "execution_count": 6,
   "id": "7478da9f",
   "metadata": {},
   "outputs": [
    {
     "name": "stdout",
     "output_type": "stream",
     "text": [
      "episode:  299 score 201.6   average score 134.7 epsilon 0.011\r"
     ]
    }
   ],
   "source": [
    "env = gym.make('LunarLander-v2')\n",
    "num_games = 300\n",
    "load_checkpoint = False\n",
    "\n",
    "agent = AgentDuelingDQN(gamma=0.99, epsilon=1.0, alpha=5e-4,\n",
    "                input_dims=[8], n_actions=4, max_mem_size=100000, eps_end=0.01,\n",
    "                batch_size=64, eps_dec=1e-3, replace=100)\n",
    "\n",
    "scores = []\n",
    "eps_history = []\n",
    "n_steps = 0\n",
    "\n",
    "for i in range(num_games):\n",
    "    done = False\n",
    "    observation = env.reset()\n",
    "    score = 0\n",
    "\n",
    "    while not done:\n",
    "        env.render()\n",
    "        action = agent.choose_action(observation)\n",
    "        observation_, reward, done, info = env.step(action)\n",
    "        n_steps += 1\n",
    "        score += reward\n",
    "        agent.store_transition(observation, action,\n",
    "                                reward, observation_, int(done))\n",
    "        agent.learn()\n",
    "\n",
    "        observation = observation_\n",
    "\n",
    "\n",
    "    scores.append(score)\n",
    "    avg_score = np.mean(scores[max(0, i-100):(i+1)])\n",
    "    print('episode: ', i,'score %.1f ' % score,\n",
    "             ' average score %.1f' % avg_score,\n",
    "            'epsilon %.2f' % agent.epsilon,\n",
    "            end = \"\\r\", flush=True)\n",
    "\n",
    "    eps_history.append(agent.epsilon)\n",
    "information[\"DuelingDQN-LunarLander\"] = scores"
   ]
  },
  {
   "cell_type": "markdown",
   "id": "baf0c540",
   "metadata": {},
   "source": [
    "### Save the training information"
   ]
  },
  {
   "cell_type": "code",
   "execution_count": 7,
   "id": "4eb1e9b6",
   "metadata": {},
   "outputs": [],
   "source": [
    "pd.DataFrame(information).to_csv(\"training_info.csv\", header = True, index = False)"
   ]
  },
  {
   "cell_type": "code",
   "execution_count": null,
   "id": "2088bf74",
   "metadata": {},
   "outputs": [],
   "source": []
  }
 ],
 "metadata": {
  "kernelspec": {
   "display_name": "Python 3",
   "language": "python",
   "name": "python3"
  },
  "language_info": {
   "codemirror_mode": {
    "name": "ipython",
    "version": 3
   },
   "file_extension": ".py",
   "mimetype": "text/x-python",
   "name": "python",
   "nbconvert_exporter": "python",
   "pygments_lexer": "ipython3",
   "version": "3.6.13"
  }
 },
 "nbformat": 4,
 "nbformat_minor": 5
}
